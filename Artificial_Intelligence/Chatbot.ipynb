{
  "cells": [
    {
      "cell_type": "code",
      "execution_count": null,
      "metadata": {
        "id": "EffmmArVASiO"
      },
      "outputs": [],
      "source": [
        "!pip install --quiet --upgrade langchain-text-splitters langchain-community langgraph"
      ]
    },
    {
      "cell_type": "code",
      "execution_count": null,
      "metadata": {
        "colab": {
          "base_uri": "https://localhost:8080/"
        },
        "id": "Om4NIb2yBvID",
        "outputId": "36bce4c4-760b-461b-c56a-7ba059d70778"
      },
      "outputs": [
        {
          "name": "stdout",
          "output_type": "stream",
          "text": [
            "\u001b[2K   \u001b[90m━━━━━━━━━━━━━━━━━━━━━━━━━━━━━━━━━━━━━━━━\u001b[0m \u001b[32m50.7/50.7 kB\u001b[0m \u001b[31m2.2 MB/s\u001b[0m eta \u001b[36m0:00:00\u001b[0m\n",
            "\u001b[2K   \u001b[90m━━━━━━━━━━━━━━━━━━━━━━━━━━━━━━━━━━━━━━━━\u001b[0m \u001b[32m1.4/1.4 MB\u001b[0m \u001b[31m24.3 MB/s\u001b[0m eta \u001b[36m0:00:00\u001b[0m\n",
            "\u001b[?25h\u001b[31mERROR: pip's dependency resolver does not currently take into account all the packages that are installed. This behaviour is the source of the following dependency conflicts.\n",
            "google-generativeai 0.8.5 requires google-ai-generativelanguage==0.6.15, but you have google-ai-generativelanguage 0.7.0 which is incompatible.\u001b[0m\u001b[31m\n",
            "\u001b[0m"
          ]
        }
      ],
      "source": [
        "!pip install -qU \"langchain[google-genai]\""
      ]
    },
    {
      "cell_type": "code",
      "execution_count": null,
      "metadata": {
        "colab": {
          "base_uri": "https://localhost:8080/"
        },
        "id": "KkmfZbvpEszs",
        "outputId": "9a703184-71bb-46a0-92e2-8e8920a74ed2"
      },
      "outputs": [
        {
          "name": "stdout",
          "output_type": "stream",
          "text": [
            "Collecting pypdf\n",
            "  Downloading pypdf-6.1.1-py3-none-any.whl.metadata (7.1 kB)\n",
            "Downloading pypdf-6.1.1-py3-none-any.whl (323 kB)\n",
            "\u001b[2K   \u001b[90m━━━━━━━━━━━━━━━━━━━━━━━━━━━━━━━━━━━━━━━━\u001b[0m \u001b[32m323.5/323.5 kB\u001b[0m \u001b[31m6.2 MB/s\u001b[0m eta \u001b[36m0:00:00\u001b[0m\n",
            "\u001b[?25hInstalling collected packages: pypdf\n",
            "Successfully installed pypdf-6.1.1\n"
          ]
        }
      ],
      "source": [
        "!pip install pypdf"
      ]
    },
    {
      "cell_type": "code",
      "execution_count": 39,
      "metadata": {
        "colab": {
          "base_uri": "https://localhost:8080/"
        },
        "id": "Pp3uyjTK0yRr",
        "outputId": "d48bd85f-fff1-4203-901b-3ce50fd08006"
      },
      "outputs": [
        {
          "name": "stdout",
          "output_type": "stream",
          "text": [
            "Collecting faiss-cpu\n",
            "  Downloading faiss_cpu-1.12.0-cp312-cp312-manylinux_2_27_x86_64.manylinux_2_28_x86_64.whl.metadata (5.1 kB)\n",
            "Requirement already satisfied: numpy<3.0,>=1.25.0 in /usr/local/lib/python3.12/dist-packages (from faiss-cpu) (2.0.2)\n",
            "Requirement already satisfied: packaging in /usr/local/lib/python3.12/dist-packages (from faiss-cpu) (25.0)\n",
            "Downloading faiss_cpu-1.12.0-cp312-cp312-manylinux_2_27_x86_64.manylinux_2_28_x86_64.whl (31.4 MB)\n",
            "\u001b[2K   \u001b[90m━━━━━━━━━━━━━━━━━━━━━━━━━━━━━━━━━━━━━━━━\u001b[0m \u001b[32m31.4/31.4 MB\u001b[0m \u001b[31m28.7 MB/s\u001b[0m eta \u001b[36m0:00:00\u001b[0m\n",
            "\u001b[?25hInstalling collected packages: faiss-cpu\n",
            "Successfully installed faiss-cpu-1.12.0\n"
          ]
        }
      ],
      "source": [
        "!pip install faiss-cpu"
      ]
    },
    {
      "cell_type": "code",
      "execution_count": null,
      "metadata": {
        "id": "Kzt6hZqMCbm0"
      },
      "outputs": [],
      "source": [
        "from langchain.chains import RetrievalQA\n",
        "from langchain.vectorstores import FAISS\n",
        "from langchain.text_splitter import RecursiveCharacterTextSplitter\n",
        "from langchain.document_loaders import PyPDFLoader\n",
        "from langchain.embeddings import OpenAIEmbeddings\n",
        "from langchain.chat_models import ChatOpenAI"
      ]
    },
    {
      "cell_type": "code",
      "execution_count": 46,
      "metadata": {
        "colab": {
          "base_uri": "https://localhost:8080/"
        },
        "id": "RNFIBJngLMTh",
        "outputId": "eb79cf30-2bc9-4cc6-d518-8a9f90ac746c"
      },
      "outputs": [
        {
          "name": "stdout",
          "output_type": "stream",
          "text": [
            "Enter API key for Google Gemini: ··········\n"
          ]
        }
      ],
      "source": [
        "import getpass\n",
        "import os\n",
        "\n",
        "# if not os.environ.get(\"GOOGLE_API_KEY\"):\n",
        "os.environ[\"GOOGLE_API_KEY\"] = getpass.getpass(\"Enter API key for Google Gemini: \")\n",
        "\n",
        "from langchain.chat_models import init_chat_model\n",
        "\n",
        "llm = init_chat_model(\"gemini-2.5-flash\", model_provider=\"google_genai\")"
      ]
    },
    {
      "cell_type": "code",
      "execution_count": null,
      "metadata": {
        "id": "J78_bljXDFKe"
      },
      "outputs": [],
      "source": [
        "loader = PyPDFLoader(\"/content/TY_syllabus.pdf\")\n",
        "documents = loader.load()"
      ]
    },
    {
      "cell_type": "code",
      "execution_count": 48,
      "metadata": {
        "id": "b9IJVOMvEWwK"
      },
      "outputs": [],
      "source": [
        "text_splitter = RecursiveCharacterTextSplitter(chunk_size=1000, chunk_overlap=200)\n",
        "all_splits = text_splitter.split_documents(documents)"
      ]
    },
    {
      "cell_type": "code",
      "execution_count": 49,
      "metadata": {
        "id": "27irY_itFKWj"
      },
      "outputs": [],
      "source": [
        "# 3. Create embeddings & vectorstore\n",
        "# Index chunks\n",
        "# _ = vector_store.add_documents(documents=all_splits)\n",
        "\n",
        "from langchain_community.embeddings import HuggingFaceEmbeddings\n",
        "\n",
        "embeddings = HuggingFaceEmbeddings(model_name=\"sentence-transformers/all-MiniLM-L6-v2\")\n",
        "vectorstore = FAISS.from_documents(all_splits, embeddings)\n"
      ]
    },
    {
      "cell_type": "code",
      "execution_count": 42,
      "metadata": {
        "id": "SLfPNAaMFM5i"
      },
      "outputs": [],
      "source": [
        "# 4. Create retriever\n",
        "retriever = vectorstore.as_retriever(search_type=\"similarity\", search_kwargs={\"k\": 3})"
      ]
    },
    {
      "cell_type": "code",
      "execution_count": 50,
      "metadata": {
        "id": "tpv-M32C1VFK"
      },
      "outputs": [],
      "source": [
        "# 6. Create RetrievalQA pipeline\n",
        "qa_chain = RetrievalQA.from_chain_type(\n",
        "    llm=llm,\n",
        "    retriever=retriever,\n",
        "    return_source_documents=True\n",
        ")"
      ]
    },
    {
      "cell_type": "code",
      "execution_count": 51,
      "metadata": {
        "colab": {
          "base_uri": "https://localhost:8080/"
        },
        "id": "BouU5Mq81hbm",
        "outputId": "1e2426e4-c7c8-43af-a952-97e8cea56827"
      },
      "outputs": [
        {
          "name": "stdout",
          "output_type": "stream",
          "text": [
            "\n",
            "📚 Ask about your syllabus: What is the syllabus of Artificial Inteliigence?\n"
          ]
        },
        {
          "name": "stderr",
          "output_type": "stream",
          "text": [
            "WARNING:langsmith.client:Failed to send compressed multipart ingest: langsmith.utils.LangSmithAuthError: Authentication failed for https://api.smith.langchain.com/runs/multipart. HTTPError('401 Client Error: Unauthorized for url: https://api.smith.langchain.com/runs/multipart', '{\"error\":\"Unauthorized\"}\\n')trace=9f970ed3-fbc8-4931-ac65-4bda35a4eeb8,id=9f970ed3-fbc8-4931-ac65-4bda35a4eeb8; trace=9f970ed3-fbc8-4931-ac65-4bda35a4eeb8,id=80664cd6-6bdf-4820-8dcd-727a8660dcae; trace=9f970ed3-fbc8-4931-ac65-4bda35a4eeb8,id=80664cd6-6bdf-4820-8dcd-727a8660dcae; trace=9f970ed3-fbc8-4931-ac65-4bda35a4eeb8,id=97d9fb27-b50b-489d-8971-d2c789dc3e59; trace=9f970ed3-fbc8-4931-ac65-4bda35a4eeb8,id=daf10254-56a5-41b7-b89a-4045e0686690; trace=9f970ed3-fbc8-4931-ac65-4bda35a4eeb8,id=ab027e69-6141-456c-8f29-a3ac3793ef97\n"
          ]
        },
        {
          "name": "stdout",
          "output_type": "stream",
          "text": [
            "\n",
            "🤖 Bot: The syllabus for \"CA31231: ARTIFICIAL INTELLIGENCE\" for the Third Year B. Tech. Computer Science and Engineering (Artificial Intelligence) 2023 Pattern at Vishwakarma Institute of Information Technology, Pune-48 includes:\n",
            "\n",
            "*   **Course Code:** CA31231\n",
            "*   **Course Name:** ARTIFICIAL INTELLIGENCE\n",
            "*   **Teaching Scheme:**\n",
            "    *   Credits: 03\n",
            "    *   Lecture (L): 02 hrs / week\n",
            "    *   Practical (P): 02 hr / week\n",
            "*   **Examination Scheme:**\n",
            "    *   CIE: 20\n",
            "    *   SCE: 20\n",
            "    *   ESE: 40\n",
            "    *   PR: 20\n",
            "    *   Total: 100\n",
            "*   **Prerequisites:** Linear Algebra, Probability and Statistics, Discrete Mathematics\n",
            "*   **Course Objectives:**\n",
            "    1.  To understand the various characteristics of intelligent agents and advancements of AI.\n",
            "    2.  To learn the different search strategies in AI, knowledge representation and reasoning in presence of incomplete and uncertain information.\n",
            "    3.  To learn how to represent knowledge in solving AI problems and to introduce the concepts of... (the rest of the third objective is cut off in the provided text).\n",
            "\n",
            "**Recommended Books:**\n",
            "*   Artificial Intelligence by Saroj Kausik, Cengage Learning\n",
            "*   Artificial Intelligence and Intelligent Systems by Padhy, Oxford University Press\n",
            "*   Deepak Khemani, “A First Course in Artificial Intelligence”, McGraw Hill Education (India), 2013, ISBN : 978-1-25-902998-1\n",
            "\n",
            "**List of NPTEL Courses:**\n",
            "*   https://cse.iitkgp.ac.in/~pallab/artificial_intelligence_autumn_2020/index.html\n",
            "*   https://onlinecourses.nptel.ac.in/noc22_cs56/preview\n",
            "*   https://onlinecourses.nptel.ac.in/noc23_ge40/preview\n",
            "\n",
            "The provided context outlines the course objectives and administrative details, but does not include a detailed list of specific topics or modules covered within the course.\n",
            "📄 Sources: ['/content/TY_syllabus.pdf', '/content/TY_syllabus.pdf', '/content/TY_syllabus.pdf']\n"
          ]
        },
        {
          "name": "stderr",
          "output_type": "stream",
          "text": [
            "WARNING:langsmith.client:Failed to send compressed multipart ingest: langsmith.utils.LangSmithAuthError: Authentication failed for https://api.smith.langchain.com/runs/multipart. HTTPError('401 Client Error: Unauthorized for url: https://api.smith.langchain.com/runs/multipart', '{\"error\":\"Unauthorized\"}\\n')trace=9f970ed3-fbc8-4931-ac65-4bda35a4eeb8,id=ab027e69-6141-456c-8f29-a3ac3793ef97; trace=9f970ed3-fbc8-4931-ac65-4bda35a4eeb8,id=daf10254-56a5-41b7-b89a-4045e0686690; trace=9f970ed3-fbc8-4931-ac65-4bda35a4eeb8,id=97d9fb27-b50b-489d-8971-d2c789dc3e59; trace=9f970ed3-fbc8-4931-ac65-4bda35a4eeb8,id=9f970ed3-fbc8-4931-ac65-4bda35a4eeb8\n"
          ]
        },
        {
          "name": "stdout",
          "output_type": "stream",
          "text": [
            "\n",
            "📚 Ask about your syllabus: explain all assignments of MLOPS, in short\n"
          ]
        },
        {
          "name": "stderr",
          "output_type": "stream",
          "text": [
            "WARNING:langsmith.client:Failed to send compressed multipart ingest: langsmith.utils.LangSmithAuthError: Authentication failed for https://api.smith.langchain.com/runs/multipart. HTTPError('401 Client Error: Unauthorized for url: https://api.smith.langchain.com/runs/multipart', '{\"error\":\"Unauthorized\"}\\n')trace=22c651f7-ea20-480f-8c7f-7da02aa5c5d1,id=22c651f7-ea20-480f-8c7f-7da02aa5c5d1; trace=22c651f7-ea20-480f-8c7f-7da02aa5c5d1,id=48c67a2c-9d2a-4021-aa19-0b60b3d0eb18; trace=22c651f7-ea20-480f-8c7f-7da02aa5c5d1,id=48c67a2c-9d2a-4021-aa19-0b60b3d0eb18; trace=22c651f7-ea20-480f-8c7f-7da02aa5c5d1,id=0270f4db-542c-44cc-b0cc-0052e509148a; trace=22c651f7-ea20-480f-8c7f-7da02aa5c5d1,id=f64b0ecd-a7d5-493f-8ebb-2f2bde687b07; trace=22c651f7-ea20-480f-8c7f-7da02aa5c5d1,id=3001aee2-780f-4193-bec6-a5fb3d249228\n"
          ]
        },
        {
          "name": "stdout",
          "output_type": "stream",
          "text": [
            "\n",
            "🤖 Bot: The provided document does not explicitly list specific assignments for the MLOps course. However, based on the **Course Outcomes**, students will be expected to perform tasks related to:\n",
            "\n",
            "1.  **Explaining ML vs. Software Development Lifecycles:** Understanding the fundamental differences.\n",
            "2.  **Applying MLOps Tools:** Using tools like MLflow, DVC, and BentoML in practical workflows.\n",
            "3.  **Managing Data, Features, and Experiments:** Effectively organizing and tracking these components.\n",
            "4.  **Automating ML Pipelines:** Integrating CI/CD for automated machine learning processes.\n",
            "5.  **Deploying and Monitoring ML Models:** Implementing deployment strategies and monitoring techniques with relevant tools.\n",
            "\n",
            "These outcomes suggest that assignments would likely involve practical exercises, projects, or lab work demonstrating proficiency in these areas, especially given the \"Practical (P): 02 hrs / week\" in the teaching scheme and \"PR\" (Practical) and \"TW\" (Term Work) components in the examination scheme.\n",
            "📄 Sources: ['/content/TY_syllabus.pdf', '/content/TY_syllabus.pdf', '/content/TY_syllabus.pdf']\n"
          ]
        },
        {
          "name": "stderr",
          "output_type": "stream",
          "text": [
            "WARNING:langsmith.client:Failed to send compressed multipart ingest: langsmith.utils.LangSmithAuthError: Authentication failed for https://api.smith.langchain.com/runs/multipart. HTTPError('401 Client Error: Unauthorized for url: https://api.smith.langchain.com/runs/multipart', '{\"error\":\"Unauthorized\"}\\n')trace=22c651f7-ea20-480f-8c7f-7da02aa5c5d1,id=3001aee2-780f-4193-bec6-a5fb3d249228; trace=22c651f7-ea20-480f-8c7f-7da02aa5c5d1,id=f64b0ecd-a7d5-493f-8ebb-2f2bde687b07; trace=22c651f7-ea20-480f-8c7f-7da02aa5c5d1,id=0270f4db-542c-44cc-b0cc-0052e509148a; trace=22c651f7-ea20-480f-8c7f-7da02aa5c5d1,id=22c651f7-ea20-480f-8c7f-7da02aa5c5d1\n"
          ]
        },
        {
          "name": "stdout",
          "output_type": "stream",
          "text": [
            "\n",
            "📚 Ask about your syllabus: exit\n"
          ]
        }
      ],
      "source": [
        "# 7. Simple chat loop\n",
        "while True:\n",
        "    query = input(\"\\n📚 Ask about your syllabus: \")\n",
        "    if query.lower() in [\"exit\", \"quit\"]:\n",
        "        break\n",
        "    response = qa_chain({\"query\": query})\n",
        "    print(\"\\n🤖 Bot:\", response[\"result\"])\n",
        "    print(\"📄 Sources:\", [doc.metadata.get(\"source\") for doc in response[\"source_documents\"]])\n"
      ]
    },
    {
      "cell_type": "code",
      "execution_count": null,
      "metadata": {
        "id": "eIIIASpg1mW_"
      },
      "outputs": [],
      "source": []
    }
  ],
  "metadata": {
    "colab": {
      "provenance": []
    },
    "kernelspec": {
      "display_name": "Python 3",
      "language": "python",
      "name": "python3"
    },
    "language_info": {
      "codemirror_mode": {
        "name": "ipython",
        "version": 3
      },
      "file_extension": ".py",
      "mimetype": "text/x-python",
      "name": "python",
      "nbconvert_exporter": "python",
      "pygments_lexer": "ipython3",
      "version": "3.11.9"
    }
  },
  "nbformat": 4,
  "nbformat_minor": 0
}
